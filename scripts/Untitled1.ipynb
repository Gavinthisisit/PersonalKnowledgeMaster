{
 "cells": [
  {
   "cell_type": "code",
   "execution_count": 4,
   "id": "fce76f66-4440-45bc-bafe-19f60fc4e997",
   "metadata": {},
   "outputs": [],
   "source": [
    "from llama_index.core import Document"
   ]
  },
  {
   "cell_type": "code",
   "execution_count": 5,
   "id": "237304e3-23be-4d9f-bc3b-a06b2ca494e0",
   "metadata": {},
   "outputs": [
    {
     "name": "stdout",
     "output_type": "stream",
     "text": [
      "Doc ID: 9869e289-5c49-48b1-91b0-e1baa647cafd\n",
      "Text: content\n"
     ]
    }
   ],
   "source": [
    "doc = Document(\n",
    "    text = \"content\",\n",
    "    metadata={}\n",
    ")\n",
    "print(doc) "
   ]
  },
  {
   "cell_type": "code",
   "execution_count": null,
   "id": "20e4221c-18f1-4c4f-a47c-d9466cacf99e",
   "metadata": {},
   "outputs": [],
   "source": []
  }
 ],
 "metadata": {
  "kernelspec": {
   "display_name": "Python 3 (ipykernel)",
   "language": "python",
   "name": "python3"
  },
  "language_info": {
   "codemirror_mode": {
    "name": "ipython",
    "version": 3
   },
   "file_extension": ".py",
   "mimetype": "text/x-python",
   "name": "python",
   "nbconvert_exporter": "python",
   "pygments_lexer": "ipython3",
   "version": "3.12.3"
  }
 },
 "nbformat": 4,
 "nbformat_minor": 5
}
