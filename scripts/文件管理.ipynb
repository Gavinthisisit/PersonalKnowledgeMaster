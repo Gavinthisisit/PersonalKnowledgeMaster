{
 "cells": [
  {
   "cell_type": "code",
   "execution_count": 1,
   "id": "ee9f5cd0-3c27-437f-b6f3-faabe7fbd85f",
   "metadata": {},
   "outputs": [
    {
     "name": "stdout",
     "output_type": "stream",
     "text": [
      "UPLOAD_ROOT_PATH: /root/autodl-tmp/QANY_DB/content\n",
      "llm_api_serve_port: None\n",
      "rerank_port: None\n",
      "embed_port: None\n",
      "65d456fe7be4977132e4002237d9285d\n"
     ]
    },
    {
     "name": "stderr",
     "output_type": "stream",
     "text": [
      "/root/miniconda3/lib/python3.12/site-packages/sentence_transformers/cross_encoder/CrossEncoder.py:11: TqdmExperimentalWarning: Using `tqdm.autonotebook.tqdm` in notebook mode. Use `tqdm.tqdm` instead to force console mode (e.g. in jupyter console)\n",
      "  from tqdm.autonotebook import tqdm, trange\n"
     ]
    }
   ],
   "source": [
    "from file_reader import FileLoader\n",
    "from general_utils import gen_file_id"
   ]
  },
  {
   "cell_type": "code",
   "execution_count": 2,
   "id": "69f556db-3596-4966-8098-83c7bfd443bd",
   "metadata": {},
   "outputs": [],
   "source": [
    "user_id = \"test_userid\""
   ]
  },
  {
   "cell_type": "code",
   "execution_count": 3,
   "id": "9b612f3c-2480-4fab-8a55-3775e83a587a",
   "metadata": {},
   "outputs": [
    {
     "name": "stdout",
     "output_type": "stream",
     "text": [
      "c2c2a1c84cc81f43a3ec1243dcff14c9\n",
      "success init localfile ../data/清算部资金清算处2023年度工作总结 - 汇报版（更新数据）.docx\n"
     ]
    }
   ],
   "source": [
    "filename = \"../data/清算部资金清算处2023年度工作总结 - 汇报版（更新数据）.docx\"\n",
    "file_id = gen_file_id(filename, user_id)\n",
    "print(file_id)\n",
    "file_loader = FileLoader(\"../data/清算部资金清算处2023年度工作总结 - 汇报版（更新数据）.docx\", file_id, user_id, False)"
   ]
  },
  {
   "cell_type": "code",
   "execution_count": 4,
   "id": "4ecc3354-e9da-43f0-a1bc-b48e5cda9050",
   "metadata": {},
   "outputs": [
    {
     "name": "stdout",
     "output_type": "stream",
     "text": [
      "清算部资金清算处2023年度工作总结\n",
      "-----------\n",
      "\n",
      "-----------\n",
      "今年，处室以“科技赋能”为核心，做“胸怀大局”表率，在马总、翟总的帮助指导下，全处人员团结一心、攻坚克难，实现了投资运营服务保障的质效双提升。在全体人员的共同努力下，助力公司在中债成员业务发展质量评价中获“债券业务锐意进取机构”（资产管理业务）奖项；处室牵头建设的投资运营智能平台获中国数字金融“科技赋能业务创新奖”，同时参选集团“卓越服务奖”；牵头参加公司第二届经典服务案例大赛，获二等奖；牵头参加中国人寿第三届短视频大赛，获最具创意奖；处室骨干员工获公司“示范型标兵”等殊荣。处室多人获工行、招行等托管行，国寿股份公司、公司职业年金部、投资中心等公司内外部致信感谢。现将具体情况汇报如下：\n",
      "-----------\n",
      "一、工作总结\n",
      "-----------\n",
      "（一）基本情况\n",
      "-----------\n",
      "资金清算业务有着日常工作繁杂、时效要求高、操作风险多的特殊性，全处人员在日常工作中展现了过硬的专业水平和高度的责任心,全年未发生一例操作失误导致的风险事件，较好履行了使命担当。\n",
      "-----------\n",
      "2023年截止12月15日，共处理业务49.4万余笔，日均笔（其中：交易指令13万余笔，日566均笔；非交易指令2.8万余笔，日125均笔；资金调整7.7万余笔，日均335笔；清算管理24.7万笔，日均1072笔；账户业务管理维护8089个账户；系统数据维护1687项）。业务数量与去年同比基本持平。\n",
      "-----------\n",
      "（二）OKR重点工作完成情况\n",
      "-----------\n",
      "    今年，处室着力在提升管理效能、推进数字化转型上多做文章。我们认识到，想要干好工作既要埋头苦干低头赶路，也要明确方向抬头看路，为此全处以OKR重点工作目标为抓手，遵守洛克定律分解目标、细化分工，即保证工作“走的远”，又确保工作“能落地”。\n",
      "-----------\n",
      "1.为一、二、三支柱提供支持。\n",
      "-----------\n",
      "处室全员提高站位，积极服务“三支柱”建设。保障商业养老金展业，快速开通交易账户支持投资交易，遵守监管规定进一步规范商养配套制度。配合销售部门提供年金、基本养老各组合的审计材料，及时反馈各类合同、备忘录数十份。牵头配合推进北京市超转人员保障资金计划，进行前期准备工作等。\n",
      "-----------\n",
      "2.服务保障投资更为有力。\n",
      "-----------\n",
      "今年，处室主动加强投管运营能力，辅助投资业绩提升。期间，重点优化头寸维护流程，为投资经理提供支持。上半年，调整组合分配入款的处理方式，全部组合的头寸入款提前2个小时，资金流动性得到提升；下半年，上线WISE平台优化头寸维护流程，实现网银自动匹配T+0交收，大大提升头寸交收效率，获投资中心好评。同时，我们紧贴投资运营实际，制定并实施投资业务月度沟通会，每月牵头与投资中心、金融科技部沟通当月投资运营急难问题，先后解决了职业年金组合简称、资产单元名称统一性问题；上线港股通模块和银行间回售模块；配合完成算法交易权限调整、主席位切换等保障工作；修订备付金调整流程，完成中登备付金调整时间切换；贯彻落实“人行1号令”，完成各投资组合的展期等。\n",
      "-----------\n",
      "3.推进“三平台”系统建设。\n",
      "-----------\n",
      "处室始终以“科技赋能”为核心，积极开展数字化建设。一是完成“投资运营智能平台（WISE）”一期建设。处室充分借鉴行业内优秀实践，主动提出平台建设理念，全员参与平台建设。在金融科技部的大力支持下，历经两年，完成平台从无到有的设计研发。平台一期功能7月初已上线，使用效果良好，平台在流程一体化、信息共享化、处理智能化方面成效突出，头寸管理、提取付费等多个模块实现行业首创。二是上线“基金代销”平台。落实集团公司提出的“综合金融业务协同”目标，配合开展与国寿股份公司的基金代销业务。同时，下半年，配合投资中心推进陆享基金、好买基金、基煜基金等三个代销平台上线事宜，目前已完成系统测试。三是上线“中债直联”。实现了银行间业务结算指令、资金余额、债券对账等信息的实时查询，全面提升了投资运营效率，降低了银行间交易风险。享受成果的同时，我们也不忘感恩之心，10月份我们致函向中债公司表示感谢。\n",
      "-----------\n",
      "4.主动加强处室建设。\n",
      "-----------\n",
      "处室积极营造办事有高度、做人有温度的工作环境，按照公司提出的“全方位培养并用好人才”要求，多给能干、会干、爱干、敢干的员工搭平台、创环境，着力发挥好“关键少数”作用，以个体效能的提升，努力增强处室的整体执行力。一是全员参与对现有的工作流程和实务手册进行修订完善，在提高个人业务能力的同时，着力强调依制度办事、合规操作理念，推进处室的整体工作再上一新台阶。二是牵头建立《提升托管合作计划》，促进投管人与托管人在投管运营领域的工作高效衔接，形成托管搭台、业务唱戏的共赢局面。\n",
      "-----------\n",
      "5.积极开展调研交流。\n",
      "-----------\n",
      "年初，处室积极发挥领导参谋助手作用，制定调研方案，牵头开展多次调研。先后至工银瑞信基金、易方达基金、中央结算等多家同业机构进行调研交流，迎接华夏久盈资产公司来我部调研交流等，后续我们做好调研总结，并将调研成果在部门内进行多次宣导。通过调研，我们认识到在数字化建设方面与同业头部机构还有差距。“流水不争先，争的是滔滔不绝”，我们有决心也有毅力，在后续的工作中脚踏实地深入研究，为继续探索适用于我司的投管新举措而努力。\n",
      "-----------\n",
      "6.牵头部门多项重点工作。\n",
      "-----------\n",
      "处室以高度的政治责任感，主动承接并有序推进部门各项重点工作。配合相关部门先后开展巡视整改、主题教育、中央八项规定、贯彻落实党中央决策部署暨战略重点工作、职业年金基金数据交换规范、风控合规等相关工作。\n",
      "-----------\n",
      "（三）党建工作开展情况\n",
      "-----------\n",
      "处室坚持以党的政治建设为统领，坚持以优良作风护航业务发展。制定支部工作计划及学习方案并推进落实。一是周密组织学习。组织多期集中学习、党课、专题研讨、结对共建等活动。二是过好组织生活。定期开展“三会一课”，做好组织纪录，按时收缴党费，做好党内统计、党组织和党员信息维护等。三是加强党员管理。组织各类人员培养、教育和考察，完成党员组织关系接转等。四是完成上级党组织交办的其他任务。在迎接总部机关对中后台部门党建工作考核检查中，获机关党委肯定。\n",
      "-----------\n",
      "（四）风险防范情况\n",
      "-----------\n",
      "处室始终绷紧风险防控这根弦，充分发挥投管运营最后一道防线的积极作用。全体人员日常工作中警钟常鸣、防微杜渐，在解决重点问题的同时也不忽视细小问题，严格遵守操作规程及流程制度，坚决避免操作风险导致蝴蝶效应从而引发系统性事件。三季度，处室启动对各组合的基金账户进行清理，进一步完善交易账户管理。截至10月底，因外部原因共计发生26次场外交易失败情况，交易失败数量同比大大降低，全年无场内透支情况发生。具体情况见附件。\n",
      "-----------\n",
      "二、明年工作计划\n",
      "-----------\n",
      "1.三支柱服务方面。确保一、二、三支柱各组合头寸准确、指令及时、清算结算顺畅。重点保障好商业养老金展业、北京市超转人员保障资金计划上线、养老金产品期限匹配整改等重点工作。\n",
      "-----------\n",
      "2.系统建设方面。一是继续优化WISE智能运营平台一期部分功能，配合开展平台二期建设。二是推进基金代销，与基煜、陆享、好买三家代销基金公司继续优化流程，推进数据标准化对接。\n",
      "-----------\n",
      "3.牵头开展受托直连。积极推进提取、付费业务流程标准化，主动开展受托、托管、投管三方直连，争取成为业内样板引领行业发展。\n",
      "-----------\n",
      "4.加强风险防范。对交易账户、组合持仓、系统数据等进行专项风险排查。\n",
      "-----------\n",
      "5.加强党建方面。按计划组织党员学习，严格党员管理，完成“三会一课”及上级党组织交办的其他任务等。\n",
      "-----------\n",
      "\n",
      "-----------\n",
      "\n",
      "-----------\n",
      "资金清算处\n",
      "-----------\n",
      "二〇二三年十月三十一日\n",
      "-----------\n",
      "\n",
      "-----------\n",
      "\n",
      "-----------\n",
      "一至六月份交易风险统计\n",
      "-----------\n",
      "\n",
      "-----------\n",
      "\n",
      "-----------\n",
      "111111111111111111111\n",
      "1\n",
      "333333 4\n",
      "langchain analysis content head: %s Doc ID: 682f80ca-a33d-4844-833d-0f3255d3ffa6\n",
      "Text: 清算部资金清算处2023年度工作总结今年，处室以“科技赋能”为核心，做“胸怀大局”表率，在马总、翟总的帮助指导下，全处人员团结一\n",
      "心、攻坚克难，实现了投资运营服务保障的质效双提升。在全体人员的共同努力下，助力公司在中债成员业务发展质量评价中获“债券业务锐意进取机构”（资\n",
      "产管理业务）奖项；处室牵头建设的投资运营智能平台获中国数字金融“科技赋能业务创新奖”，同时参选集团“卓越服务奖”；牵头参加公司第二届经典服务\n",
      "案例大赛，获二等奖；牵头参加中国人寿第三届短视频大赛，获最具创意奖；处室骨干员工获公司“示范型标兵”等殊荣。处室多人获工行、招行等托管行，国\n",
      "寿股份公司、公司职业年金部、投资中心等公司内外部致信感谢。现将具体情况汇报如下：一、工作总结（一）基本情况资金清算业务有着日常工作繁杂、时效\n",
      "要求高...\n"
     ]
    }
   ],
   "source": [
    "file_loader.split_file_to_docs()"
   ]
  },
  {
   "cell_type": "code",
   "execution_count": 6,
   "id": "00e9ece8-cbfc-436c-8bea-6eab305eb8da",
   "metadata": {},
   "outputs": [
    {
     "name": "stdout",
     "output_type": "stream",
     "text": [
      "4\n",
      "Doc ID: 682f80ca-a33d-4844-833d-0f3255d3ffa6\n",
      "Text: 清算部资金清算处2023年度工作总结今年，处室以“科技赋能”为核心，做“胸怀大局”表率，在马总、翟总的帮助指导下，全处人员团结一\n",
      "心、攻坚克难，实现了投资运营服务保障的质效双提升。在全体人员的共同努力下，助力公司在中债成员业务发展质量评价中获“债券业务锐意进取机构”（资\n",
      "产管理业务）奖项；处室牵头建设的投资运营智能平台获中国数字金融“科技赋能业务创新奖”，同时参选集团“卓越服务奖”；牵头参加公司第二届经典服务\n",
      "案例大赛，获二等奖；牵头参加中国人寿第三届短视频大赛，获最具创意奖；处室骨干员工获公司“示范型标兵”等殊荣。处室多人获工行、招行等托管行，国\n",
      "寿股份公司、公司职业年金部、投资中心等公司内外部致信感谢。现将具体情况汇报如下：一、工作总结（一）基本情况资金清算业务有着日常工作繁杂、时效\n",
      "要求高...\n"
     ]
    }
   ],
   "source": [
    "print(len(file_loader.docs))\n",
    "print(file_loader.docs[0])"
   ]
  },
  {
   "cell_type": "code",
   "execution_count": 7,
   "id": "af36aa6f-c60a-4861-8064-48065359ab72",
   "metadata": {},
   "outputs": [],
   "source": [
    "from llama_index.core import ServiceContext, SimpleDirectoryReader, SummaryIndex\n",
    "from llama_index.core.llms.callbacks import llm_completion_callback\n",
    "from llama_index.core import Document\n",
    "from llama_index.core.node_parser import SimpleNodeParser\n",
    "from llama_index.core.schema import IndexNode\n",
    "from llama_index.core import VectorStoreIndex, ServiceContext\n",
    "from llama_index.core.response.notebook_utils import display_source_node"
   ]
  },
  {
   "cell_type": "code",
   "execution_count": 8,
   "id": "a3aee1da-fb04-4f29-a57b-9089cc98fdbe",
   "metadata": {},
   "outputs": [
    {
     "name": "stderr",
     "output_type": "stream",
     "text": [
      "/tmp/ipykernel_6537/148385430.py:2: DeprecationWarning: Call to deprecated class method from_defaults. (ServiceContext is deprecated, please use `llama_index.settings.Settings` instead.) -- Deprecated since version 0.10.0.\n",
      "  service_context = ServiceContext.from_defaults(\n"
     ]
    },
    {
     "name": "stdout",
     "output_type": "stream",
     "text": [
      "LLM is explicitly disabled. Using MockLLM.\n"
     ]
    }
   ],
   "source": [
    "# 定义你的服务上下文\n",
    "service_context = ServiceContext.from_defaults(\n",
    "    llm=None, embed_model= \"local://root/autodl-tmp/models/bge-large-zh-v1.5\"\n",
    ")"
   ]
  },
  {
   "cell_type": "code",
   "execution_count": 10,
   "id": "4352b9f2-f293-432b-ad82-7f06b2f99797",
   "metadata": {},
   "outputs": [
    {
     "name": "stdout",
     "output_type": "stream",
     "text": [
      "7\n"
     ]
    }
   ],
   "source": [
    "node_parser = SimpleNodeParser.from_defaults(chunk_size=1024)\n",
    "base_nodes = node_parser.get_nodes_from_documents(file_loader.docs)\n",
    "print(len(base_nodes))\n",
    "# 创建index\n",
    "base_index = VectorStoreIndex(base_nodes, service_context=service_context)"
   ]
  },
  {
   "cell_type": "code",
   "execution_count": 33,
   "id": "a6c5b070-d484-4978-a39c-14ab67400931",
   "metadata": {},
   "outputs": [],
   "source": [
    "base_retriever = base_index.as_retriever(similarity_top_k=5)\n",
    "def poem_rag_recall(query):\n",
    "    pre_time = time.time()\n",
    "    retrievals = base_retriever.retrieve(query)\n",
    "    return retrievals\n",
    "    # print(\"retriever_time: \", time.time() - pre_time)\n",
    "    # pairs = []\n",
    "    # pre_time = time.time()\n",
    "    # for n in retrievals:\n",
    "    #     # display_source_node(n, source_length=1500)\n",
    "    #     pairs.append([query, n.text])\n",
    "    # inputs = rank_tokenizer(pairs, padding=True, truncation=True, return_tensors='pt', max_length=512)\n",
    "    # scores = rank_model(**inputs, return_dict=True).logits.view(-1, ).float()\n",
    "    # print(\"rerank_time: \", time.time() - pre_time)\n",
    "    # max_idx = 0\n",
    "    # max_score = -100\n",
    "    # for idx in range(len(scores)):\n",
    "    #     score = scores[idx]\n",
    "    #     if score > max_score:\n",
    "    #         max_idx = idx\n",
    "    #         max_score = score\n",
    "    # print(scores)\n",
    "    # print(max_score)\n",
    "    # return retrievals[max_idx]"
   ]
  },
  {
   "cell_type": "code",
   "execution_count": 38,
   "id": "db8c0e2e-c2c0-4873-a0f8-5489eaba31f9",
   "metadata": {},
   "outputs": [
    {
     "name": "stdout",
     "output_type": "stream",
     "text": [
      "all_time:  0.03860211372375488\n",
      "{'source': '../data/清算部资金清算处2023年度工作总结 - 汇报版（更新数据）.docx', 'file_id': '981cd7deb7f8f0a0adfec16c5939dd4b', 'user_id': 'test_userid', 'file_name': '清算部资金清算处2023年度工作总结 - 汇报版（更新数据）.docx'}\n",
      "{'source': '../data/2022年度述职PPT-资金清算处.pptx', 'file_id': '80620cb5a891eb0f489dbbd342a3db0a', 'user_id': 'test_userid', 'file_name': '2022年度述职PPT-资金清算处.pptx'}\n",
      "{'source': '../data/清算部资金清算处2023年度工作总结 - 汇报版（更新数据）.docx', 'file_id': 'c2c2a1c84cc81f43a3ec1243dcff14c9', 'user_id': 'test_userid', 'file_name': '清算部资金清算处2023年度工作总结 - 汇报版（更新数据）.docx'}\n"
     ]
    }
   ],
   "source": [
    "import time\n",
    "query = \"投资运营智能平台\"\n",
    "pre_time = time.time()\n",
    "nodes = poem_rag_recall(query)\n",
    "print(\"all_time: \", time.time() - pre_time)\n",
    "for node in nodes:\n",
    "    print(node.metadata)"
   ]
  },
  {
   "cell_type": "code",
   "execution_count": 26,
   "id": "f646483a-9a74-47ce-8356-0950f66e438a",
   "metadata": {},
   "outputs": [
    {
     "name": "stdout",
     "output_type": "stream",
     "text": [
      "80620cb5a891eb0f489dbbd342a3db0a\n",
      "success init localfile ../data/2022年度述职PPT-资金清算处.pptx\n",
      "111111111111111111111\n",
      "1\n",
      "333333 5\n",
      "langchain analysis content head: %s Doc ID: c3abd90b-6f69-4fee-8fe6-48e15c924fdb\n",
      "Text: 清算部 2023年度工作汇报 述职人：荀鹏 2023年12月 目 录 2023年工作成效 01\n",
      "在马总、翟总的帮助指导下，全处人员团结一心、攻坚克难，实现了投资运营服务保障的质效双提升。 2023年 中债成员业务发展质量评价中获\n",
      "“债券业务锐意进取机构”（资产管理业务） 牵头参加公司第二届经典服务案例大赛 获二等奖 牵头参加中国人寿第三届短视频大赛 获最具创意奖 截止\n",
      "12月15日，共处理业务49.4万余笔，日均xxx笔。其中，交易指令13万余笔，日均566均笔；非交易指令2.8万余笔，日均125均笔；资金\n",
      "调整7.7万余笔，日均335笔；清算管理24.7万笔，日均1072笔；账户业务管理维护8089个账户；系统数据维护1687项。\n",
      "（一）基本情况 业务数量与去年同比基本持平，全年未发生一...\n"
     ]
    }
   ],
   "source": [
    "filename = \"../data/2022年度述职PPT-资金清算处.pptx\"\n",
    "file_id = gen_file_id(filename, user_id)\n",
    "print(file_id)\n",
    "file_loader2 = FileLoader(filename, file_id, user_id, False)\n",
    "file_loader2.split_file_to_docs()"
   ]
  },
  {
   "cell_type": "code",
   "execution_count": 27,
   "id": "0b832f28-a94a-47fb-8e4c-7bdfed04a5ee",
   "metadata": {},
   "outputs": [],
   "source": [
    "filename = \"../data/2022年度述职PPT-资金清算处.pptx\"\n",
    "file_id = gen_file_id(filename, user_id)\n",
    "print(file_id)\n",
    "file_loader2 = FileLoader(filename, file_id, user_id, False)\n",
    "file_loader2.split_file_to_docs()\n",
    "for doc in file_loader2.docs:\n",
    "    base_index.insert(doc)\n",
    "base_retriever = base_index.as_retriever(similarity_top_k=5)"
   ]
  },
  {
   "cell_type": "code",
   "execution_count": 37,
   "id": "79c9aac4-b1c7-4d28-81e0-f0120a149416",
   "metadata": {},
   "outputs": [
    {
     "name": "stdout",
     "output_type": "stream",
     "text": [
      "all_time:  0.048250675201416016\n",
      "{'source': '../data/2022年度述职PPT-资金清算处.pptx', 'file_id': '80620cb5a891eb0f489dbbd342a3db0a', 'user_id': 'test_userid', 'file_name': '2022年度述职PPT-资金清算处.pptx'}\n",
      "{'source': '../data/清算部资金清算处2023年度工作总结 - 汇报版（更新数据）.docx', 'file_id': '981cd7deb7f8f0a0adfec16c5939dd4b', 'user_id': 'test_userid', 'file_name': '清算部资金清算处2023年度工作总结 - 汇报版（更新数据）.docx'}\n"
     ]
    }
   ],
   "source": [
    "query = \"第三届短视频大赛\"\n",
    "pre_time = time.time()\n",
    "nodes = poem_rag_recall(query)\n",
    "print(\"all_time: \", time.time() - pre_time)\n",
    "for node in nodes:\n",
    "    print(node.metadata)"
   ]
  },
  {
   "cell_type": "code",
   "execution_count": 43,
   "id": "35c451d2-0698-48c1-9395-7f3a1579da35",
   "metadata": {},
   "outputs": [
    {
     "name": "stdout",
     "output_type": "stream",
     "text": [
      "4f41fedb12b62188bd7fbe159dc211eb\n",
      "success init localfile ../data/china_2185.txt\n",
      "GB2312\n",
      "111111111111111111111\n",
      "17\n",
      "333333 103\n",
      "langchain analysis content head: %s Doc ID: 62fec703-2fe4-4e98-a28f-fdb0fa44af20\n",
      "Text: 声明：本书为八零电子书(txt80.com)的用户上传至本站的存储空间，本站只提供TXT全集电子书存储服务以及免费下载服务，以下\n",
      "作品内容之版权与本站无任何关系。\n",
      "---------------------------用户上传之内容开始--------------------------------\n"
     ]
    }
   ],
   "source": [
    "filename = \"../data/china_2185.txt\"\n",
    "file_id = gen_file_id(filename, user_id)\n",
    "print(file_id)\n",
    "file_loader4 = FileLoader(filename, file_id, user_id, False)\n",
    "file_loader4.split_file_to_docs()\n",
    "for doc in file_loader4.docs:\n",
    "    base_index.insert(doc)\n",
    "base_retriever = base_index.as_retriever(similarity_top_k=5)"
   ]
  },
  {
   "cell_type": "code",
   "execution_count": 44,
   "id": "95ea8cfa-89a5-4ee6-9153-319f9fa8fdf7",
   "metadata": {},
   "outputs": [
    {
     "name": "stdout",
     "output_type": "stream",
     "text": [
      "all_time:  0.056722402572631836\n",
      "{'source': '../data/china_2185.txt', 'file_id': '4f41fedb12b62188bd7fbe159dc211eb', 'user_id': 'test_userid', 'file_name': 'china_2185.txt'}\n",
      "{'source': '../data/china_2185_2.txt', 'file_id': 'f203016f611a720a46c9384d83c9c919', 'user_id': 'test_userid', 'file_name': 'china_2185_2.txt'}\n",
      "{'source': '../data/china_2185_2.txt', 'file_id': 'f203016f611a720a46c9384d83c9c919', 'user_id': 'test_userid', 'file_name': 'china_2185_2.txt'}\n",
      "{'source': '../data/china_2185.txt', 'file_id': '4f41fedb12b62188bd7fbe159dc211eb', 'user_id': 'test_userid', 'file_name': 'china_2185.txt'}\n",
      "{'source': '../data/china_2185_2.txt', 'file_id': 'f203016f611a720a46c9384d83c9c919', 'user_id': 'test_userid', 'file_name': 'china_2185_2.txt'}\n"
     ]
    }
   ],
   "source": [
    "query = \"基地司令官报告国防网络供电机组已正常运行\"\n",
    "pre_time = time.time()\n",
    "nodes = poem_rag_recall(query)\n",
    "print(\"all_time: \", time.time() - pre_time)\n",
    "for node in nodes:\n",
    "    print(node.metadata)"
   ]
  },
  {
   "cell_type": "code",
   "execution_count": null,
   "id": "e318eee6-aca7-4525-91cb-1346aeecfea9",
   "metadata": {},
   "outputs": [],
   "source": []
  }
 ],
 "metadata": {
  "kernelspec": {
   "display_name": "Python 3 (ipykernel)",
   "language": "python",
   "name": "python3"
  },
  "language_info": {
   "codemirror_mode": {
    "name": "ipython",
    "version": 3
   },
   "file_extension": ".py",
   "mimetype": "text/x-python",
   "name": "python",
   "nbconvert_exporter": "python",
   "pygments_lexer": "ipython3",
   "version": "3.12.3"
  }
 },
 "nbformat": 4,
 "nbformat_minor": 5
}
